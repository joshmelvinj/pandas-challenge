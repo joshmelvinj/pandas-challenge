{
 "cells": [
  {
   "cell_type": "markdown",
   "metadata": {},
   "source": [
    "### Heroes Of Pymoli Data Analysis\n",
    "* Of the 1163 active players, the vast majority are male (84%). There also exists, a smaller, but notable proportion of female players (14%).\n",
    "\n",
    "* Our peak age demographic falls between 20-24 (44.8%) with secondary groups falling between 15-19 (18.60%) and 25-29 (13.4%).  \n",
    "-----"
   ]
  },
  {
   "cell_type": "markdown",
   "metadata": {},
   "source": [
    "### Note\n",
    "* Instructions have been included for each segment. You do not have to follow them exactly, but they are included to help you think through the steps."
   ]
  },
  {
   "cell_type": "code",
   "execution_count": 274,
   "metadata": {},
   "outputs": [],
   "source": [
    "# Dependencies and Setup\n",
    "import pandas as pd\n",
    "import numpy as np \n",
    "import os\n",
    "\n",
    "# File to Load (Remember to Change These)\n",
    "Heroes_Data = \"Resources/purchase_data.csv\"\n",
    "\n",
    "# Read Purchasing File and store into Pandas data frame\n",
    "purchase_data = pd.read_csv(Heroes_Data)"
   ]
  },
  {
   "cell_type": "code",
   "execution_count": 275,
   "metadata": {},
   "outputs": [
    {
     "data": {
      "text/plain": [
       "Index(['Purchase ID', 'SN', 'Age', 'Gender', 'Item ID', 'Item Name', 'Price'], dtype='object')"
      ]
     },
     "execution_count": 275,
     "metadata": {},
     "output_type": "execute_result"
    }
   ],
   "source": [
    "purchase_data.columns"
   ]
  },
  {
   "cell_type": "markdown",
   "metadata": {},
   "source": [
    "## Player Count"
   ]
  },
  {
   "cell_type": "markdown",
   "metadata": {},
   "source": [
    "* Display the total number of players\n"
   ]
  },
  {
   "cell_type": "code",
   "execution_count": 276,
   "metadata": {},
   "outputs": [],
   "source": [
    "player_count = len(purchase_data[\"SN\"].value_counts())"
   ]
  },
  {
   "cell_type": "code",
   "execution_count": 277,
   "metadata": {},
   "outputs": [
    {
     "data": {
      "text/html": [
       "<div>\n",
       "<style scoped>\n",
       "    .dataframe tbody tr th:only-of-type {\n",
       "        vertical-align: middle;\n",
       "    }\n",
       "\n",
       "    .dataframe tbody tr th {\n",
       "        vertical-align: top;\n",
       "    }\n",
       "\n",
       "    .dataframe thead th {\n",
       "        text-align: right;\n",
       "    }\n",
       "</style>\n",
       "<table border=\"1\" class=\"dataframe\">\n",
       "  <thead>\n",
       "    <tr style=\"text-align: right;\">\n",
       "      <th></th>\n",
       "      <th>Total Players</th>\n",
       "    </tr>\n",
       "  </thead>\n",
       "  <tbody>\n",
       "    <tr>\n",
       "      <th>0</th>\n",
       "      <td>576</td>\n",
       "    </tr>\n",
       "  </tbody>\n",
       "</table>\n",
       "</div>"
      ],
      "text/plain": [
       "   Total Players\n",
       "0            576"
      ]
     },
     "execution_count": 277,
     "metadata": {},
     "output_type": "execute_result"
    }
   ],
   "source": [
    "total_players = pd.DataFrame({\"Total Players\":[player_count]})\n",
    "total_players"
   ]
  },
  {
   "cell_type": "markdown",
   "metadata": {},
   "source": [
    "## Purchasing Analysis (Total)"
   ]
  },
  {
   "cell_type": "markdown",
   "metadata": {},
   "source": [
    "* Run basic calculations to obtain number of unique items, average price, etc.\n",
    "\n",
    "\n",
    "* Create a summary data frame to hold the results\n",
    "\n",
    "\n",
    "* Optional: give the displayed data cleaner formatting\n",
    "\n",
    "\n",
    "* Display the summary data frame\n"
   ]
  },
  {
   "cell_type": "code",
   "execution_count": 278,
   "metadata": {
    "scrolled": true
   },
   "outputs": [],
   "source": [
    "unique_items = len((purchase_data[\"Item ID\"]).unique())"
   ]
  },
  {
   "cell_type": "code",
   "execution_count": 279,
   "metadata": {},
   "outputs": [],
   "source": [
    "avg_price = (purchase_data[\"Price\"]).mean()"
   ]
  },
  {
   "cell_type": "code",
   "execution_count": 280,
   "metadata": {},
   "outputs": [],
   "source": [
    "number_purchases = (purchase_data[\"Purchase ID\"]).count()"
   ]
  },
  {
   "cell_type": "code",
   "execution_count": 281,
   "metadata": {},
   "outputs": [],
   "source": [
    "total_revenue = (purchase_data[\"Price\"]).sum()"
   ]
  },
  {
   "cell_type": "code",
   "execution_count": 282,
   "metadata": {},
   "outputs": [],
   "source": [
    "purchase_analysis = pd.DataFrame({\"Number of Unique Items\":[unique_items],\n",
    "                                 \"Average Price ($)\":[avg_price],\n",
    "                                 \"Number of Purchases\":[number_purchases],\n",
    "                                 \"Total Revenue ($)\":[total_revenue]})"
   ]
  },
  {
   "cell_type": "code",
   "execution_count": 283,
   "metadata": {},
   "outputs": [
    {
     "data": {
      "text/html": [
       "<style  type=\"text/css\" >\n",
       "</style><table id=\"T_91a756f0_a2c8_11ea_9b5f_7831c1c617ae\" ><thead>    <tr>        <th class=\"blank level0\" ></th>        <th class=\"col_heading level0 col0\" >Number of Unique Items</th>        <th class=\"col_heading level0 col1\" >Average Price ($)</th>        <th class=\"col_heading level0 col2\" >Number of Purchases</th>        <th class=\"col_heading level0 col3\" >Total Revenue ($)</th>    </tr></thead><tbody>\n",
       "                <tr>\n",
       "                        <th id=\"T_91a756f0_a2c8_11ea_9b5f_7831c1c617aelevel0_row0\" class=\"row_heading level0 row0\" >0</th>\n",
       "                        <td id=\"T_91a756f0_a2c8_11ea_9b5f_7831c1c617aerow0_col0\" class=\"data row0 col0\" >179</td>\n",
       "                        <td id=\"T_91a756f0_a2c8_11ea_9b5f_7831c1c617aerow0_col1\" class=\"data row0 col1\" >$3.05</td>\n",
       "                        <td id=\"T_91a756f0_a2c8_11ea_9b5f_7831c1c617aerow0_col2\" class=\"data row0 col2\" >780</td>\n",
       "                        <td id=\"T_91a756f0_a2c8_11ea_9b5f_7831c1c617aerow0_col3\" class=\"data row0 col3\" >$2,379.77</td>\n",
       "            </tr>\n",
       "    </tbody></table>"
      ],
      "text/plain": [
       "<pandas.io.formats.style.Styler at 0x11e3a22e8>"
      ]
     },
     "execution_count": 283,
     "metadata": {},
     "output_type": "execute_result"
    }
   ],
   "source": [
    "purchase_analysis.style.format({\"Average Price ($)\":\"${:,.2f}\",\n",
    "                               \"Total Revenue ($)\":\"${:,.2f}\"})"
   ]
  },
  {
   "cell_type": "markdown",
   "metadata": {},
   "source": [
    "## Gender Demographics"
   ]
  },
  {
   "cell_type": "markdown",
   "metadata": {},
   "source": [
    "* Percentage and Count of Male Players\n",
    "\n",
    "\n",
    "* Percentage and Count of Female Players\n",
    "\n",
    "\n",
    "* Percentage and Count of Other / Non-Disclosed\n",
    "\n",
    "\n"
   ]
  },
  {
   "cell_type": "code",
   "execution_count": 284,
   "metadata": {},
   "outputs": [],
   "source": [
    "grouped_df = purchase_data.groupby([\"Gender\"]) "
   ]
  },
  {
   "cell_type": "code",
   "execution_count": 285,
   "metadata": {},
   "outputs": [],
   "source": [
    "gender_count = grouped_df.nunique()[\"SN\"]"
   ]
  },
  {
   "cell_type": "code",
   "execution_count": 286,
   "metadata": {},
   "outputs": [],
   "source": [
    "gender_percent = gender_count/ player_count * 100"
   ]
  },
  {
   "cell_type": "code",
   "execution_count": 287,
   "metadata": {},
   "outputs": [],
   "source": [
    "gender_dem_df = pd.DataFrame({\"Total Count\": gender_count,\n",
    "                              \"Percentage of Players (%)\": gender_percent})"
   ]
  },
  {
   "cell_type": "code",
   "execution_count": 288,
   "metadata": {},
   "outputs": [],
   "source": [
    "gender_dem_df.index.name = None"
   ]
  },
  {
   "cell_type": "code",
   "execution_count": 289,
   "metadata": {},
   "outputs": [
    {
     "data": {
      "text/html": [
       "<style  type=\"text/css\" >\n",
       "</style><table id=\"T_93c8c7d4_a2c8_11ea_8e59_7831c1c617ae\" ><thead>    <tr>        <th class=\"blank level0\" ></th>        <th class=\"col_heading level0 col0\" >Total Count</th>        <th class=\"col_heading level0 col1\" >Percentage of Players (%)</th>    </tr></thead><tbody>\n",
       "                <tr>\n",
       "                        <th id=\"T_93c8c7d4_a2c8_11ea_8e59_7831c1c617aelevel0_row0\" class=\"row_heading level0 row0\" >Male</th>\n",
       "                        <td id=\"T_93c8c7d4_a2c8_11ea_8e59_7831c1c617aerow0_col0\" class=\"data row0 col0\" >484</td>\n",
       "                        <td id=\"T_93c8c7d4_a2c8_11ea_8e59_7831c1c617aerow0_col1\" class=\"data row0 col1\" >%84.03</td>\n",
       "            </tr>\n",
       "            <tr>\n",
       "                        <th id=\"T_93c8c7d4_a2c8_11ea_8e59_7831c1c617aelevel0_row1\" class=\"row_heading level0 row1\" >Female</th>\n",
       "                        <td id=\"T_93c8c7d4_a2c8_11ea_8e59_7831c1c617aerow1_col0\" class=\"data row1 col0\" >81</td>\n",
       "                        <td id=\"T_93c8c7d4_a2c8_11ea_8e59_7831c1c617aerow1_col1\" class=\"data row1 col1\" >%14.06</td>\n",
       "            </tr>\n",
       "            <tr>\n",
       "                        <th id=\"T_93c8c7d4_a2c8_11ea_8e59_7831c1c617aelevel0_row2\" class=\"row_heading level0 row2\" >Other / Non-Disclosed</th>\n",
       "                        <td id=\"T_93c8c7d4_a2c8_11ea_8e59_7831c1c617aerow2_col0\" class=\"data row2 col0\" >11</td>\n",
       "                        <td id=\"T_93c8c7d4_a2c8_11ea_8e59_7831c1c617aerow2_col1\" class=\"data row2 col1\" >%1.91</td>\n",
       "            </tr>\n",
       "    </tbody></table>"
      ],
      "text/plain": [
       "<pandas.io.formats.style.Styler at 0x11e3a2c18>"
      ]
     },
     "execution_count": 289,
     "metadata": {},
     "output_type": "execute_result"
    }
   ],
   "source": [
    "gender_dem_df.sort_values([\"Total Count\"], ascending = False).style.format({\"Percentage of Players (%)\":\"%{:.2f}\"})"
   ]
  },
  {
   "cell_type": "markdown",
   "metadata": {},
   "source": [
    "\n",
    "## Purchasing Analysis (Gender)"
   ]
  },
  {
   "cell_type": "markdown",
   "metadata": {},
   "source": [
    "* Run basic calculations to obtain purchase count, avg. purchase price, avg. purchase total per person etc. by gender\n",
    "\n",
    "\n",
    "\n",
    "\n",
    "* Create a summary data frame to hold the results\n",
    "\n",
    "\n",
    "* Optional: give the displayed data cleaner formatting\n",
    "\n",
    "\n",
    "* Display the summary data frame"
   ]
  },
  {
   "cell_type": "code",
   "execution_count": 290,
   "metadata": {},
   "outputs": [],
   "source": [
    "purchase_count = purchase_data.groupby([\"Gender\"]).count()[\"Price\"]"
   ]
  },
  {
   "cell_type": "code",
   "execution_count": 291,
   "metadata": {},
   "outputs": [],
   "source": [
    "avg_purchase_price = purchase_data.groupby([\"Gender\"]).mean()[\"Price\"]"
   ]
  },
  {
   "cell_type": "code",
   "execution_count": 292,
   "metadata": {},
   "outputs": [],
   "source": [
    "purchase_tot = purchase_data.groupby([\"Gender\"]).sum()[\"Price\"]"
   ]
  },
  {
   "cell_type": "code",
   "execution_count": 293,
   "metadata": {},
   "outputs": [],
   "source": [
    "avg_purchase_per_person = purchase_tot/gender_count"
   ]
  },
  {
   "cell_type": "code",
   "execution_count": 294,
   "metadata": {},
   "outputs": [],
   "source": [
    "purchase_analysis = pd.DataFrame({\"Purchase Count\":purchase_count,\n",
    "                                \"Average Purchase Price ($)\":avg_purchase_price,\n",
    "                                \"Total Purchase Value ($)\": purchase_tot,\n",
    "                                \"Normalized Total ($)\":avg_purchase_per_person})"
   ]
  },
  {
   "cell_type": "code",
   "execution_count": 295,
   "metadata": {},
   "outputs": [
    {
     "data": {
      "text/html": [
       "<style  type=\"text/css\" >\n",
       "</style><table id=\"T_962b24e8_a2c8_11ea_96a8_7831c1c617ae\" ><thead>    <tr>        <th class=\"blank level0\" ></th>        <th class=\"col_heading level0 col0\" >Purchase Count</th>        <th class=\"col_heading level0 col1\" >Average Purchase Price ($)</th>        <th class=\"col_heading level0 col2\" >Total Purchase Value ($)</th>        <th class=\"col_heading level0 col3\" >Normalized Total ($)</th>    </tr>    <tr>        <th class=\"index_name level0\" >Gender</th>        <th class=\"blank\" ></th>        <th class=\"blank\" ></th>        <th class=\"blank\" ></th>        <th class=\"blank\" ></th>    </tr></thead><tbody>\n",
       "                <tr>\n",
       "                        <th id=\"T_962b24e8_a2c8_11ea_96a8_7831c1c617aelevel0_row0\" class=\"row_heading level0 row0\" >Female</th>\n",
       "                        <td id=\"T_962b24e8_a2c8_11ea_96a8_7831c1c617aerow0_col0\" class=\"data row0 col0\" >113</td>\n",
       "                        <td id=\"T_962b24e8_a2c8_11ea_96a8_7831c1c617aerow0_col1\" class=\"data row0 col1\" >$3.20</td>\n",
       "                        <td id=\"T_962b24e8_a2c8_11ea_96a8_7831c1c617aerow0_col2\" class=\"data row0 col2\" >$361.94</td>\n",
       "                        <td id=\"T_962b24e8_a2c8_11ea_96a8_7831c1c617aerow0_col3\" class=\"data row0 col3\" >$4.47</td>\n",
       "            </tr>\n",
       "            <tr>\n",
       "                        <th id=\"T_962b24e8_a2c8_11ea_96a8_7831c1c617aelevel0_row1\" class=\"row_heading level0 row1\" >Male</th>\n",
       "                        <td id=\"T_962b24e8_a2c8_11ea_96a8_7831c1c617aerow1_col0\" class=\"data row1 col0\" >652</td>\n",
       "                        <td id=\"T_962b24e8_a2c8_11ea_96a8_7831c1c617aerow1_col1\" class=\"data row1 col1\" >$3.02</td>\n",
       "                        <td id=\"T_962b24e8_a2c8_11ea_96a8_7831c1c617aerow1_col2\" class=\"data row1 col2\" >$1967.64</td>\n",
       "                        <td id=\"T_962b24e8_a2c8_11ea_96a8_7831c1c617aerow1_col3\" class=\"data row1 col3\" >$4.07</td>\n",
       "            </tr>\n",
       "            <tr>\n",
       "                        <th id=\"T_962b24e8_a2c8_11ea_96a8_7831c1c617aelevel0_row2\" class=\"row_heading level0 row2\" >Other / Non-Disclosed</th>\n",
       "                        <td id=\"T_962b24e8_a2c8_11ea_96a8_7831c1c617aerow2_col0\" class=\"data row2 col0\" >15</td>\n",
       "                        <td id=\"T_962b24e8_a2c8_11ea_96a8_7831c1c617aerow2_col1\" class=\"data row2 col1\" >$3.35</td>\n",
       "                        <td id=\"T_962b24e8_a2c8_11ea_96a8_7831c1c617aerow2_col2\" class=\"data row2 col2\" >$50.19</td>\n",
       "                        <td id=\"T_962b24e8_a2c8_11ea_96a8_7831c1c617aerow2_col3\" class=\"data row2 col3\" >$4.56</td>\n",
       "            </tr>\n",
       "    </tbody></table>"
      ],
      "text/plain": [
       "<pandas.io.formats.style.Styler at 0x11e378048>"
      ]
     },
     "execution_count": 295,
     "metadata": {},
     "output_type": "execute_result"
    }
   ],
   "source": [
    "purchase_analysis.style.format({\"Average Purchase Price ($)\":\"${:.2f}\", \n",
    "                               \"Total Purchase Value ($)\":\"${:.2f}\",\n",
    "                               \"Normalized Total ($)\":\"${:.2f}\"})"
   ]
  },
  {
   "cell_type": "markdown",
   "metadata": {},
   "source": [
    "## Age Demographics"
   ]
  },
  {
   "cell_type": "markdown",
   "metadata": {},
   "source": [
    "* Establish bins for ages\n",
    "\n",
    "\n",
    "* Categorize the existing players using the age bins. Hint: use pd.cut()\n",
    "\n",
    "\n",
    "* Calculate the numbers and percentages by age group\n",
    "\n",
    "\n",
    "* Create a summary data frame to hold the results\n",
    "\n",
    "\n",
    "* Optional: round the percentage column to two decimal points\n",
    "\n",
    "\n",
    "* Display Age Demographics Table\n"
   ]
  },
  {
   "cell_type": "code",
   "execution_count": 296,
   "metadata": {},
   "outputs": [],
   "source": [
    "organized_df = purchase_data.drop_duplicates(\"SN\")"
   ]
  },
  {
   "cell_type": "code",
   "execution_count": 297,
   "metadata": {},
   "outputs": [],
   "source": [
    "bins = [0,9.90,14.90,19.90,24.90,29.90,34.90,39.90,120]\n",
    "groups = ['<10','10-14','15-19','20-24','25-29','30-34','35-39','40+']"
   ]
  },
  {
   "cell_type": "code",
   "execution_count": 298,
   "metadata": {},
   "outputs": [
    {
     "name": "stderr",
     "output_type": "stream",
     "text": [
      "/Users/grizzlyjenkins/opt/anaconda3/envs/PythonData/lib/python3.6/site-packages/ipykernel_launcher.py:1: SettingWithCopyWarning: \n",
      "A value is trying to be set on a copy of a slice from a DataFrame.\n",
      "Try using .loc[row_indexer,col_indexer] = value instead\n",
      "\n",
      "See the caveats in the documentation: https://pandas.pydata.org/pandas-docs/stable/user_guide/indexing.html#returning-a-view-versus-a-copy\n",
      "  \"\"\"Entry point for launching an IPython kernel.\n"
     ]
    }
   ],
   "source": [
    "organized_df[\"Age Groups\"] = pd.cut(organized_df[\"Age\"], bins, labels=groups)"
   ]
  },
  {
   "cell_type": "code",
   "execution_count": 299,
   "metadata": {},
   "outputs": [],
   "source": [
    "ages_grouped = organized_df.groupby([\"Age Groups\"])"
   ]
  },
  {
   "cell_type": "code",
   "execution_count": 300,
   "metadata": {},
   "outputs": [],
   "source": [
    "age_group_tot = ages_grouped[\"SN\"].nunique()"
   ]
  },
  {
   "cell_type": "code",
   "execution_count": 301,
   "metadata": {},
   "outputs": [],
   "source": [
    "age_group_percent = (age_group_tot / player_count) * 100"
   ]
  },
  {
   "cell_type": "code",
   "execution_count": 302,
   "metadata": {},
   "outputs": [],
   "source": [
    "age_demographics = pd.DataFrame({\"Total Count\": age_group_tot, \"Percentage of Players (%)\": age_group_percent})"
   ]
  },
  {
   "cell_type": "code",
   "execution_count": 303,
   "metadata": {},
   "outputs": [],
   "source": [
    "age_demographics.index.name = None"
   ]
  },
  {
   "cell_type": "code",
   "execution_count": 304,
   "metadata": {},
   "outputs": [
    {
     "data": {
      "text/html": [
       "<style  type=\"text/css\" >\n",
       "</style><table id=\"T_9d077da4_a2c8_11ea_a2c4_7831c1c617ae\" ><thead>    <tr>        <th class=\"blank level0\" ></th>        <th class=\"col_heading level0 col0\" >Total Count</th>        <th class=\"col_heading level0 col1\" >Percentage of Players (%)</th>    </tr></thead><tbody>\n",
       "                <tr>\n",
       "                        <th id=\"T_9d077da4_a2c8_11ea_a2c4_7831c1c617aelevel0_row0\" class=\"row_heading level0 row0\" ><10</th>\n",
       "                        <td id=\"T_9d077da4_a2c8_11ea_a2c4_7831c1c617aerow0_col0\" class=\"data row0 col0\" >17</td>\n",
       "                        <td id=\"T_9d077da4_a2c8_11ea_a2c4_7831c1c617aerow0_col1\" class=\"data row0 col1\" >%2.95</td>\n",
       "            </tr>\n",
       "            <tr>\n",
       "                        <th id=\"T_9d077da4_a2c8_11ea_a2c4_7831c1c617aelevel0_row1\" class=\"row_heading level0 row1\" >10-14</th>\n",
       "                        <td id=\"T_9d077da4_a2c8_11ea_a2c4_7831c1c617aerow1_col0\" class=\"data row1 col0\" >22</td>\n",
       "                        <td id=\"T_9d077da4_a2c8_11ea_a2c4_7831c1c617aerow1_col1\" class=\"data row1 col1\" >%3.82</td>\n",
       "            </tr>\n",
       "            <tr>\n",
       "                        <th id=\"T_9d077da4_a2c8_11ea_a2c4_7831c1c617aelevel0_row2\" class=\"row_heading level0 row2\" >15-19</th>\n",
       "                        <td id=\"T_9d077da4_a2c8_11ea_a2c4_7831c1c617aerow2_col0\" class=\"data row2 col0\" >107</td>\n",
       "                        <td id=\"T_9d077da4_a2c8_11ea_a2c4_7831c1c617aerow2_col1\" class=\"data row2 col1\" >%18.58</td>\n",
       "            </tr>\n",
       "            <tr>\n",
       "                        <th id=\"T_9d077da4_a2c8_11ea_a2c4_7831c1c617aelevel0_row3\" class=\"row_heading level0 row3\" >20-24</th>\n",
       "                        <td id=\"T_9d077da4_a2c8_11ea_a2c4_7831c1c617aerow3_col0\" class=\"data row3 col0\" >258</td>\n",
       "                        <td id=\"T_9d077da4_a2c8_11ea_a2c4_7831c1c617aerow3_col1\" class=\"data row3 col1\" >%44.79</td>\n",
       "            </tr>\n",
       "            <tr>\n",
       "                        <th id=\"T_9d077da4_a2c8_11ea_a2c4_7831c1c617aelevel0_row4\" class=\"row_heading level0 row4\" >25-29</th>\n",
       "                        <td id=\"T_9d077da4_a2c8_11ea_a2c4_7831c1c617aerow4_col0\" class=\"data row4 col0\" >77</td>\n",
       "                        <td id=\"T_9d077da4_a2c8_11ea_a2c4_7831c1c617aerow4_col1\" class=\"data row4 col1\" >%13.37</td>\n",
       "            </tr>\n",
       "            <tr>\n",
       "                        <th id=\"T_9d077da4_a2c8_11ea_a2c4_7831c1c617aelevel0_row5\" class=\"row_heading level0 row5\" >30-34</th>\n",
       "                        <td id=\"T_9d077da4_a2c8_11ea_a2c4_7831c1c617aerow5_col0\" class=\"data row5 col0\" >52</td>\n",
       "                        <td id=\"T_9d077da4_a2c8_11ea_a2c4_7831c1c617aerow5_col1\" class=\"data row5 col1\" >%9.03</td>\n",
       "            </tr>\n",
       "            <tr>\n",
       "                        <th id=\"T_9d077da4_a2c8_11ea_a2c4_7831c1c617aelevel0_row6\" class=\"row_heading level0 row6\" >35-39</th>\n",
       "                        <td id=\"T_9d077da4_a2c8_11ea_a2c4_7831c1c617aerow6_col0\" class=\"data row6 col0\" >31</td>\n",
       "                        <td id=\"T_9d077da4_a2c8_11ea_a2c4_7831c1c617aerow6_col1\" class=\"data row6 col1\" >%5.38</td>\n",
       "            </tr>\n",
       "            <tr>\n",
       "                        <th id=\"T_9d077da4_a2c8_11ea_a2c4_7831c1c617aelevel0_row7\" class=\"row_heading level0 row7\" >40+</th>\n",
       "                        <td id=\"T_9d077da4_a2c8_11ea_a2c4_7831c1c617aerow7_col0\" class=\"data row7 col0\" >12</td>\n",
       "                        <td id=\"T_9d077da4_a2c8_11ea_a2c4_7831c1c617aerow7_col1\" class=\"data row7 col1\" >%2.08</td>\n",
       "            </tr>\n",
       "    </tbody></table>"
      ],
      "text/plain": [
       "<pandas.io.formats.style.Styler at 0x11e3784a8>"
      ]
     },
     "execution_count": 304,
     "metadata": {},
     "output_type": "execute_result"
    }
   ],
   "source": [
    "age_demographics.style.format({\"Percentage of Players (%)\":\"%{:,.2f}\"})"
   ]
  },
  {
   "cell_type": "markdown",
   "metadata": {},
   "source": [
    "## Purchasing Analysis (Age)"
   ]
  },
  {
   "cell_type": "markdown",
   "metadata": {},
   "source": [
    "* Bin the purchase_data data frame by age\n",
    "\n",
    "\n",
    "* Run basic calculations to obtain purchase count, avg. purchase price, avg. purchase total per person etc. in the table below\n",
    "\n",
    "\n",
    "* Create a summary data frame to hold the results\n",
    "\n",
    "\n",
    "* Optional: give the displayed data cleaner formatting\n",
    "\n",
    "\n",
    "* Display the summary data frame"
   ]
  },
  {
   "cell_type": "code",
   "execution_count": 305,
   "metadata": {},
   "outputs": [],
   "source": [
    "bins = [0,9.90,14.90,19.90,24.90,29.90,34.90,39.90,120]\n",
    "groups = ['<10','10-14','15-19','20-24','25-29','30-34','35-39','40+']"
   ]
  },
  {
   "cell_type": "code",
   "execution_count": 306,
   "metadata": {},
   "outputs": [],
   "source": [
    "age_group_purchases = ages_grouped[\"Purchase ID\"].count()"
   ]
  },
  {
   "cell_type": "code",
   "execution_count": 307,
   "metadata": {},
   "outputs": [],
   "source": [
    "avg_group_purchase_price = ages_grouped[\"Price\"].mean()"
   ]
  },
  {
   "cell_type": "code",
   "execution_count": 308,
   "metadata": {},
   "outputs": [],
   "source": [
    "tot_purchases_per_group = ages_grouped[\"Price\"].sum()"
   ]
  },
  {
   "cell_type": "code",
   "execution_count": 309,
   "metadata": {},
   "outputs": [],
   "source": [
    "avg_purchase_per_person = tot_purchases_per_group/age_group_tot"
   ]
  },
  {
   "cell_type": "code",
   "execution_count": 310,
   "metadata": {},
   "outputs": [],
   "source": [
    "purchase_demographics = pd.DataFrame({\"Purchase Count\": age_group_purchases, \"Average Purchase Price ($)\": avg_group_purchase_price, \"Total Purchase Value ($)\": tot_purchases_per_group, \"Avg Total Purchase per Person ($)\": avg_purchase_per_person})"
   ]
  },
  {
   "cell_type": "code",
   "execution_count": 311,
   "metadata": {},
   "outputs": [
    {
     "data": {
      "text/html": [
       "<style  type=\"text/css\" >\n",
       "</style><table id=\"T_a0b12112_a2c8_11ea_bfe9_7831c1c617ae\" ><thead>    <tr>        <th class=\"blank level0\" ></th>        <th class=\"col_heading level0 col0\" >Purchase Count</th>        <th class=\"col_heading level0 col1\" >Average Purchase Price ($)</th>        <th class=\"col_heading level0 col2\" >Total Purchase Value ($)</th>        <th class=\"col_heading level0 col3\" >Avg Total Purchase per Person ($)</th>    </tr></thead><tbody>\n",
       "                <tr>\n",
       "                        <th id=\"T_a0b12112_a2c8_11ea_bfe9_7831c1c617aelevel0_row0\" class=\"row_heading level0 row0\" ><10</th>\n",
       "                        <td id=\"T_a0b12112_a2c8_11ea_bfe9_7831c1c617aerow0_col0\" class=\"data row0 col0\" >17</td>\n",
       "                        <td id=\"T_a0b12112_a2c8_11ea_bfe9_7831c1c617aerow0_col1\" class=\"data row0 col1\" >$3.39</td>\n",
       "                        <td id=\"T_a0b12112_a2c8_11ea_bfe9_7831c1c617aerow0_col2\" class=\"data row0 col2\" >$57.63</td>\n",
       "                        <td id=\"T_a0b12112_a2c8_11ea_bfe9_7831c1c617aerow0_col3\" class=\"data row0 col3\" >$3.39</td>\n",
       "            </tr>\n",
       "            <tr>\n",
       "                        <th id=\"T_a0b12112_a2c8_11ea_bfe9_7831c1c617aelevel0_row1\" class=\"row_heading level0 row1\" >10-14</th>\n",
       "                        <td id=\"T_a0b12112_a2c8_11ea_bfe9_7831c1c617aerow1_col0\" class=\"data row1 col0\" >22</td>\n",
       "                        <td id=\"T_a0b12112_a2c8_11ea_bfe9_7831c1c617aerow1_col1\" class=\"data row1 col1\" >$3.07</td>\n",
       "                        <td id=\"T_a0b12112_a2c8_11ea_bfe9_7831c1c617aerow1_col2\" class=\"data row1 col2\" >$67.64</td>\n",
       "                        <td id=\"T_a0b12112_a2c8_11ea_bfe9_7831c1c617aerow1_col3\" class=\"data row1 col3\" >$3.07</td>\n",
       "            </tr>\n",
       "            <tr>\n",
       "                        <th id=\"T_a0b12112_a2c8_11ea_bfe9_7831c1c617aelevel0_row2\" class=\"row_heading level0 row2\" >15-19</th>\n",
       "                        <td id=\"T_a0b12112_a2c8_11ea_bfe9_7831c1c617aerow2_col0\" class=\"data row2 col0\" >107</td>\n",
       "                        <td id=\"T_a0b12112_a2c8_11ea_bfe9_7831c1c617aerow2_col1\" class=\"data row2 col1\" >$3.10</td>\n",
       "                        <td id=\"T_a0b12112_a2c8_11ea_bfe9_7831c1c617aerow2_col2\" class=\"data row2 col2\" >$331.88</td>\n",
       "                        <td id=\"T_a0b12112_a2c8_11ea_bfe9_7831c1c617aerow2_col3\" class=\"data row2 col3\" >$3.10</td>\n",
       "            </tr>\n",
       "            <tr>\n",
       "                        <th id=\"T_a0b12112_a2c8_11ea_bfe9_7831c1c617aelevel0_row3\" class=\"row_heading level0 row3\" >20-24</th>\n",
       "                        <td id=\"T_a0b12112_a2c8_11ea_bfe9_7831c1c617aerow3_col0\" class=\"data row3 col0\" >258</td>\n",
       "                        <td id=\"T_a0b12112_a2c8_11ea_bfe9_7831c1c617aerow3_col1\" class=\"data row3 col1\" >$3.06</td>\n",
       "                        <td id=\"T_a0b12112_a2c8_11ea_bfe9_7831c1c617aerow3_col2\" class=\"data row3 col2\" >$790.39</td>\n",
       "                        <td id=\"T_a0b12112_a2c8_11ea_bfe9_7831c1c617aerow3_col3\" class=\"data row3 col3\" >$3.06</td>\n",
       "            </tr>\n",
       "            <tr>\n",
       "                        <th id=\"T_a0b12112_a2c8_11ea_bfe9_7831c1c617aelevel0_row4\" class=\"row_heading level0 row4\" >25-29</th>\n",
       "                        <td id=\"T_a0b12112_a2c8_11ea_bfe9_7831c1c617aerow4_col0\" class=\"data row4 col0\" >77</td>\n",
       "                        <td id=\"T_a0b12112_a2c8_11ea_bfe9_7831c1c617aerow4_col1\" class=\"data row4 col1\" >$2.91</td>\n",
       "                        <td id=\"T_a0b12112_a2c8_11ea_bfe9_7831c1c617aerow4_col2\" class=\"data row4 col2\" >$223.93</td>\n",
       "                        <td id=\"T_a0b12112_a2c8_11ea_bfe9_7831c1c617aerow4_col3\" class=\"data row4 col3\" >$2.91</td>\n",
       "            </tr>\n",
       "            <tr>\n",
       "                        <th id=\"T_a0b12112_a2c8_11ea_bfe9_7831c1c617aelevel0_row5\" class=\"row_heading level0 row5\" >30-34</th>\n",
       "                        <td id=\"T_a0b12112_a2c8_11ea_bfe9_7831c1c617aerow5_col0\" class=\"data row5 col0\" >52</td>\n",
       "                        <td id=\"T_a0b12112_a2c8_11ea_bfe9_7831c1c617aerow5_col1\" class=\"data row5 col1\" >$2.92</td>\n",
       "                        <td id=\"T_a0b12112_a2c8_11ea_bfe9_7831c1c617aerow5_col2\" class=\"data row5 col2\" >$151.92</td>\n",
       "                        <td id=\"T_a0b12112_a2c8_11ea_bfe9_7831c1c617aerow5_col3\" class=\"data row5 col3\" >$2.92</td>\n",
       "            </tr>\n",
       "            <tr>\n",
       "                        <th id=\"T_a0b12112_a2c8_11ea_bfe9_7831c1c617aelevel0_row6\" class=\"row_heading level0 row6\" >35-39</th>\n",
       "                        <td id=\"T_a0b12112_a2c8_11ea_bfe9_7831c1c617aerow6_col0\" class=\"data row6 col0\" >31</td>\n",
       "                        <td id=\"T_a0b12112_a2c8_11ea_bfe9_7831c1c617aerow6_col1\" class=\"data row6 col1\" >$3.51</td>\n",
       "                        <td id=\"T_a0b12112_a2c8_11ea_bfe9_7831c1c617aerow6_col2\" class=\"data row6 col2\" >$108.81</td>\n",
       "                        <td id=\"T_a0b12112_a2c8_11ea_bfe9_7831c1c617aerow6_col3\" class=\"data row6 col3\" >$3.51</td>\n",
       "            </tr>\n",
       "            <tr>\n",
       "                        <th id=\"T_a0b12112_a2c8_11ea_bfe9_7831c1c617aelevel0_row7\" class=\"row_heading level0 row7\" >40+</th>\n",
       "                        <td id=\"T_a0b12112_a2c8_11ea_bfe9_7831c1c617aerow7_col0\" class=\"data row7 col0\" >12</td>\n",
       "                        <td id=\"T_a0b12112_a2c8_11ea_bfe9_7831c1c617aerow7_col1\" class=\"data row7 col1\" >$3.04</td>\n",
       "                        <td id=\"T_a0b12112_a2c8_11ea_bfe9_7831c1c617aerow7_col2\" class=\"data row7 col2\" >$36.45</td>\n",
       "                        <td id=\"T_a0b12112_a2c8_11ea_bfe9_7831c1c617aerow7_col3\" class=\"data row7 col3\" >$3.04</td>\n",
       "            </tr>\n",
       "    </tbody></table>"
      ],
      "text/plain": [
       "<pandas.io.formats.style.Styler at 0x11e2bc588>"
      ]
     },
     "execution_count": 311,
     "metadata": {},
     "output_type": "execute_result"
    }
   ],
   "source": [
    "purchase_demographics.index.name = None\n",
    "purchase_demographics.style.format({\"Average Purchase Price ($)\":\"${:,.2f}\", \"Total Purchase Value ($)\":\"${:,.2f}\", \"Avg Total Purchase per Person ($)\":\"${:,.2f}\"})\n"
   ]
  },
  {
   "cell_type": "markdown",
   "metadata": {},
   "source": [
    "## Top Spenders"
   ]
  },
  {
   "cell_type": "markdown",
   "metadata": {},
   "source": [
    "* Run basic calculations to obtain the results in the table below\n",
    "\n",
    "\n",
    "* Create a summary data frame to hold the results\n",
    "\n",
    "\n",
    "* Sort the total purchase value column in descending order\n",
    "\n",
    "\n",
    "* Optional: give the displayed data cleaner formatting\n",
    "\n",
    "\n",
    "* Display a preview of the summary data frame\n",
    "\n"
   ]
  },
  {
   "cell_type": "code",
   "execution_count": 312,
   "metadata": {},
   "outputs": [],
   "source": [
    "user_df = purchase_data.groupby([\"SN\"])"
   ]
  },
  {
   "cell_type": "code",
   "execution_count": 313,
   "metadata": {},
   "outputs": [],
   "source": [
    "user_purchase_count = user_df[\"Purchase ID\"].count()"
   ]
  },
  {
   "cell_type": "code",
   "execution_count": 314,
   "metadata": {},
   "outputs": [],
   "source": [
    "user_avg_purchase_price = user_df[\"Price\"].mean()"
   ]
  },
  {
   "cell_type": "code",
   "execution_count": 315,
   "metadata": {},
   "outputs": [],
   "source": [
    "tot_purchase_value = user_df[\"Price\"].sum()"
   ]
  },
  {
   "cell_type": "code",
   "execution_count": 316,
   "metadata": {},
   "outputs": [],
   "source": [
    "biggest_spenders = pd.DataFrame({\"Purchase Count\": user_purchase_count,\n",
    "                                \"Average Purchase Price ($)\": user_avg_purchase_price,\n",
    "                                \"Total Purchase Value ($)\":tot_purchase_value})"
   ]
  },
  {
   "cell_type": "code",
   "execution_count": 317,
   "metadata": {},
   "outputs": [],
   "source": [
    "biggest_spenders_format = biggest_spenders.sort_values([\"Total Purchase Value ($)\"], ascending=False).head()"
   ]
  },
  {
   "cell_type": "code",
   "execution_count": 318,
   "metadata": {},
   "outputs": [
    {
     "data": {
      "text/html": [
       "<div>\n",
       "<style scoped>\n",
       "    .dataframe tbody tr th:only-of-type {\n",
       "        vertical-align: middle;\n",
       "    }\n",
       "\n",
       "    .dataframe tbody tr th {\n",
       "        vertical-align: top;\n",
       "    }\n",
       "\n",
       "    .dataframe thead th {\n",
       "        text-align: right;\n",
       "    }\n",
       "</style>\n",
       "<table border=\"1\" class=\"dataframe\">\n",
       "  <thead>\n",
       "    <tr style=\"text-align: right;\">\n",
       "      <th></th>\n",
       "      <th>Purchase Count</th>\n",
       "      <th>Average Purchase Price ($)</th>\n",
       "      <th>Total Purchase Value ($)</th>\n",
       "    </tr>\n",
       "    <tr>\n",
       "      <th>SN</th>\n",
       "      <th></th>\n",
       "      <th></th>\n",
       "      <th></th>\n",
       "    </tr>\n",
       "  </thead>\n",
       "  <tbody>\n",
       "    <tr>\n",
       "      <th>Lisosia93</th>\n",
       "      <td>5</td>\n",
       "      <td>3.792000</td>\n",
       "      <td>18.96</td>\n",
       "    </tr>\n",
       "    <tr>\n",
       "      <th>Idastidru52</th>\n",
       "      <td>4</td>\n",
       "      <td>3.862500</td>\n",
       "      <td>15.45</td>\n",
       "    </tr>\n",
       "    <tr>\n",
       "      <th>Chamjask73</th>\n",
       "      <td>3</td>\n",
       "      <td>4.610000</td>\n",
       "      <td>13.83</td>\n",
       "    </tr>\n",
       "    <tr>\n",
       "      <th>Iral74</th>\n",
       "      <td>4</td>\n",
       "      <td>3.405000</td>\n",
       "      <td>13.62</td>\n",
       "    </tr>\n",
       "    <tr>\n",
       "      <th>Iskadarya95</th>\n",
       "      <td>3</td>\n",
       "      <td>4.366667</td>\n",
       "      <td>13.10</td>\n",
       "    </tr>\n",
       "  </tbody>\n",
       "</table>\n",
       "</div>"
      ],
      "text/plain": [
       "             Purchase Count  Average Purchase Price ($)  \\\n",
       "SN                                                        \n",
       "Lisosia93                 5                    3.792000   \n",
       "Idastidru52               4                    3.862500   \n",
       "Chamjask73                3                    4.610000   \n",
       "Iral74                    4                    3.405000   \n",
       "Iskadarya95               3                    4.366667   \n",
       "\n",
       "             Total Purchase Value ($)  \n",
       "SN                                     \n",
       "Lisosia93                       18.96  \n",
       "Idastidru52                     15.45  \n",
       "Chamjask73                      13.83  \n",
       "Iral74                          13.62  \n",
       "Iskadarya95                     13.10  "
      ]
     },
     "execution_count": 318,
     "metadata": {},
     "output_type": "execute_result"
    }
   ],
   "source": [
    "biggest_spenders_format.style.format({\"Purchase Count\":\"${:,.2f}\",\n",
    "                                \"Average Purchase Price ($)\":\"${:,.2f}\",\n",
    "                                \"Total Purchase Value ($)\":\"${:,.2f}\"})\n",
    "biggest_spenders_format.head()"
   ]
  },
  {
   "cell_type": "markdown",
   "metadata": {},
   "source": [
    "## Most Popular Items"
   ]
  },
  {
   "cell_type": "markdown",
   "metadata": {},
   "source": [
    "* Retrieve the Item ID, Item Name, and Item Price columns\n",
    "\n",
    "\n",
    "* Group by Item ID and Item Name. Perform calculations to obtain purchase count, item price, and total purchase value\n",
    "\n",
    "\n",
    "* Create a summary data frame to hold the results\n",
    "\n",
    "\n",
    "* Sort the purchase count column in descending order\n",
    "\n",
    "\n",
    "* Optional: give the displayed data cleaner formatting\n",
    "\n",
    "\n",
    "* Display a preview of the summary data frame\n",
    "\n"
   ]
  },
  {
   "cell_type": "code",
   "execution_count": 319,
   "metadata": {},
   "outputs": [],
   "source": [
    "most_popular = purchase_data[[\"Item ID\", \"Item Name\", \"Price\"]]"
   ]
  },
  {
   "cell_type": "code",
   "execution_count": 320,
   "metadata": {},
   "outputs": [],
   "source": [
    "grouped_items = most_popular.groupby([\"Item ID\", \"Item Name\"])"
   ]
  },
  {
   "cell_type": "code",
   "execution_count": 321,
   "metadata": {},
   "outputs": [],
   "source": [
    "item_purchase_count = grouped_items[\"Price\"].count()"
   ]
  },
  {
   "cell_type": "code",
   "execution_count": 322,
   "metadata": {},
   "outputs": [],
   "source": [
    "item_price = grouped_items[\"Price\"].sum()"
   ]
  },
  {
   "cell_type": "code",
   "execution_count": 323,
   "metadata": {},
   "outputs": [],
   "source": [
    "item_value = item_price/item_purchase_count"
   ]
  },
  {
   "cell_type": "code",
   "execution_count": 324,
   "metadata": {},
   "outputs": [],
   "source": [
    "most_popular_items = pd.DataFrame({\"Purchase Count\":item_purchase_count,\n",
    "                                  \"Item Price ($)\":item_value,\n",
    "                                  \"Total Purchase Value ($)\":item_price})"
   ]
  },
  {
   "cell_type": "code",
   "execution_count": 325,
   "metadata": {},
   "outputs": [],
   "source": [
    "most_popular_items_format = most_popular_items.sort_values([\"Purchase Count\"], ascending=False).head()"
   ]
  },
  {
   "cell_type": "code",
   "execution_count": 326,
   "metadata": {},
   "outputs": [
    {
     "data": {
      "text/html": [
       "<style  type=\"text/css\" >\n",
       "</style><table id=\"T_a6577f6c_a2c8_11ea_96b4_7831c1c617ae\" ><thead>    <tr>        <th class=\"blank\" ></th>        <th class=\"blank level0\" ></th>        <th class=\"col_heading level0 col0\" >Purchase Count</th>        <th class=\"col_heading level0 col1\" >Item Price ($)</th>        <th class=\"col_heading level0 col2\" >Total Purchase Value ($)</th>    </tr>    <tr>        <th class=\"index_name level0\" >Item ID</th>        <th class=\"index_name level1\" >Item Name</th>        <th class=\"blank\" ></th>        <th class=\"blank\" ></th>        <th class=\"blank\" ></th>    </tr></thead><tbody>\n",
       "                <tr>\n",
       "                        <th id=\"T_a6577f6c_a2c8_11ea_96b4_7831c1c617aelevel0_row0\" class=\"row_heading level0 row0\" >92</th>\n",
       "                        <th id=\"T_a6577f6c_a2c8_11ea_96b4_7831c1c617aelevel1_row0\" class=\"row_heading level1 row0\" >Final Critic</th>\n",
       "                        <td id=\"T_a6577f6c_a2c8_11ea_96b4_7831c1c617aerow0_col0\" class=\"data row0 col0\" >13</td>\n",
       "                        <td id=\"T_a6577f6c_a2c8_11ea_96b4_7831c1c617aerow0_col1\" class=\"data row0 col1\" >$4.61</td>\n",
       "                        <td id=\"T_a6577f6c_a2c8_11ea_96b4_7831c1c617aerow0_col2\" class=\"data row0 col2\" >$59.99</td>\n",
       "            </tr>\n",
       "            <tr>\n",
       "                        <th id=\"T_a6577f6c_a2c8_11ea_96b4_7831c1c617aelevel0_row1\" class=\"row_heading level0 row1\" >178</th>\n",
       "                        <th id=\"T_a6577f6c_a2c8_11ea_96b4_7831c1c617aelevel1_row1\" class=\"row_heading level1 row1\" >Oathbreaker, Last Hope of the Breaking Storm</th>\n",
       "                        <td id=\"T_a6577f6c_a2c8_11ea_96b4_7831c1c617aerow1_col0\" class=\"data row1 col0\" >12</td>\n",
       "                        <td id=\"T_a6577f6c_a2c8_11ea_96b4_7831c1c617aerow1_col1\" class=\"data row1 col1\" >$4.23</td>\n",
       "                        <td id=\"T_a6577f6c_a2c8_11ea_96b4_7831c1c617aerow1_col2\" class=\"data row1 col2\" >$50.76</td>\n",
       "            </tr>\n",
       "            <tr>\n",
       "                        <th id=\"T_a6577f6c_a2c8_11ea_96b4_7831c1c617aelevel0_row2\" class=\"row_heading level0 row2\" >145</th>\n",
       "                        <th id=\"T_a6577f6c_a2c8_11ea_96b4_7831c1c617aelevel1_row2\" class=\"row_heading level1 row2\" >Fiery Glass Crusader</th>\n",
       "                        <td id=\"T_a6577f6c_a2c8_11ea_96b4_7831c1c617aerow2_col0\" class=\"data row2 col0\" >9</td>\n",
       "                        <td id=\"T_a6577f6c_a2c8_11ea_96b4_7831c1c617aerow2_col1\" class=\"data row2 col1\" >$4.58</td>\n",
       "                        <td id=\"T_a6577f6c_a2c8_11ea_96b4_7831c1c617aerow2_col2\" class=\"data row2 col2\" >$41.22</td>\n",
       "            </tr>\n",
       "            <tr>\n",
       "                        <th id=\"T_a6577f6c_a2c8_11ea_96b4_7831c1c617aelevel0_row3\" class=\"row_heading level0 row3\" >132</th>\n",
       "                        <th id=\"T_a6577f6c_a2c8_11ea_96b4_7831c1c617aelevel1_row3\" class=\"row_heading level1 row3\" >Persuasion</th>\n",
       "                        <td id=\"T_a6577f6c_a2c8_11ea_96b4_7831c1c617aerow3_col0\" class=\"data row3 col0\" >9</td>\n",
       "                        <td id=\"T_a6577f6c_a2c8_11ea_96b4_7831c1c617aerow3_col1\" class=\"data row3 col1\" >$3.22</td>\n",
       "                        <td id=\"T_a6577f6c_a2c8_11ea_96b4_7831c1c617aerow3_col2\" class=\"data row3 col2\" >$28.99</td>\n",
       "            </tr>\n",
       "            <tr>\n",
       "                        <th id=\"T_a6577f6c_a2c8_11ea_96b4_7831c1c617aelevel0_row4\" class=\"row_heading level0 row4\" >108</th>\n",
       "                        <th id=\"T_a6577f6c_a2c8_11ea_96b4_7831c1c617aelevel1_row4\" class=\"row_heading level1 row4\" >Extraction, Quickblade Of Trembling Hands</th>\n",
       "                        <td id=\"T_a6577f6c_a2c8_11ea_96b4_7831c1c617aerow4_col0\" class=\"data row4 col0\" >9</td>\n",
       "                        <td id=\"T_a6577f6c_a2c8_11ea_96b4_7831c1c617aerow4_col1\" class=\"data row4 col1\" >$3.53</td>\n",
       "                        <td id=\"T_a6577f6c_a2c8_11ea_96b4_7831c1c617aerow4_col2\" class=\"data row4 col2\" >$31.77</td>\n",
       "            </tr>\n",
       "    </tbody></table>"
      ],
      "text/plain": [
       "<pandas.io.formats.style.Styler at 0x11e261208>"
      ]
     },
     "execution_count": 326,
     "metadata": {},
     "output_type": "execute_result"
    }
   ],
   "source": [
    "most_popular_items_format.style.format({\"Item Price ($)\":\"${:,.2f}\", \"Total Purchase Value ($)\":\"${:,.2f}\"})"
   ]
  },
  {
   "cell_type": "markdown",
   "metadata": {},
   "source": [
    "## Most Profitable Items"
   ]
  },
  {
   "cell_type": "markdown",
   "metadata": {},
   "source": [
    "* Sort the above table by total purchase value in descending order\n",
    "\n",
    "\n",
    "* Optional: give the displayed data cleaner formatting\n",
    "\n",
    "\n",
    "* Display a preview of the data frame\n",
    "\n"
   ]
  },
  {
   "cell_type": "code",
   "execution_count": 327,
   "metadata": {},
   "outputs": [],
   "source": [
    "most_popular_items_format = most_popular_items.sort_values([\"Total Purchase Value ($)\"], ascending=False).head()"
   ]
  },
  {
   "cell_type": "code",
   "execution_count": 328,
   "metadata": {},
   "outputs": [
    {
     "data": {
      "text/html": [
       "<style  type=\"text/css\" >\n",
       "</style><table id=\"T_a73a8442_a2c8_11ea_a0c0_7831c1c617ae\" ><thead>    <tr>        <th class=\"blank\" ></th>        <th class=\"blank level0\" ></th>        <th class=\"col_heading level0 col0\" >Purchase Count</th>        <th class=\"col_heading level0 col1\" >Item Price ($)</th>        <th class=\"col_heading level0 col2\" >Total Purchase Value ($)</th>    </tr>    <tr>        <th class=\"index_name level0\" >Item ID</th>        <th class=\"index_name level1\" >Item Name</th>        <th class=\"blank\" ></th>        <th class=\"blank\" ></th>        <th class=\"blank\" ></th>    </tr></thead><tbody>\n",
       "                <tr>\n",
       "                        <th id=\"T_a73a8442_a2c8_11ea_a0c0_7831c1c617aelevel0_row0\" class=\"row_heading level0 row0\" >92</th>\n",
       "                        <th id=\"T_a73a8442_a2c8_11ea_a0c0_7831c1c617aelevel1_row0\" class=\"row_heading level1 row0\" >Final Critic</th>\n",
       "                        <td id=\"T_a73a8442_a2c8_11ea_a0c0_7831c1c617aerow0_col0\" class=\"data row0 col0\" >13</td>\n",
       "                        <td id=\"T_a73a8442_a2c8_11ea_a0c0_7831c1c617aerow0_col1\" class=\"data row0 col1\" >$4.61</td>\n",
       "                        <td id=\"T_a73a8442_a2c8_11ea_a0c0_7831c1c617aerow0_col2\" class=\"data row0 col2\" >$59.99</td>\n",
       "            </tr>\n",
       "            <tr>\n",
       "                        <th id=\"T_a73a8442_a2c8_11ea_a0c0_7831c1c617aelevel0_row1\" class=\"row_heading level0 row1\" >178</th>\n",
       "                        <th id=\"T_a73a8442_a2c8_11ea_a0c0_7831c1c617aelevel1_row1\" class=\"row_heading level1 row1\" >Oathbreaker, Last Hope of the Breaking Storm</th>\n",
       "                        <td id=\"T_a73a8442_a2c8_11ea_a0c0_7831c1c617aerow1_col0\" class=\"data row1 col0\" >12</td>\n",
       "                        <td id=\"T_a73a8442_a2c8_11ea_a0c0_7831c1c617aerow1_col1\" class=\"data row1 col1\" >$4.23</td>\n",
       "                        <td id=\"T_a73a8442_a2c8_11ea_a0c0_7831c1c617aerow1_col2\" class=\"data row1 col2\" >$50.76</td>\n",
       "            </tr>\n",
       "            <tr>\n",
       "                        <th id=\"T_a73a8442_a2c8_11ea_a0c0_7831c1c617aelevel0_row2\" class=\"row_heading level0 row2\" >82</th>\n",
       "                        <th id=\"T_a73a8442_a2c8_11ea_a0c0_7831c1c617aelevel1_row2\" class=\"row_heading level1 row2\" >Nirvana</th>\n",
       "                        <td id=\"T_a73a8442_a2c8_11ea_a0c0_7831c1c617aerow2_col0\" class=\"data row2 col0\" >9</td>\n",
       "                        <td id=\"T_a73a8442_a2c8_11ea_a0c0_7831c1c617aerow2_col1\" class=\"data row2 col1\" >$4.90</td>\n",
       "                        <td id=\"T_a73a8442_a2c8_11ea_a0c0_7831c1c617aerow2_col2\" class=\"data row2 col2\" >$44.10</td>\n",
       "            </tr>\n",
       "            <tr>\n",
       "                        <th id=\"T_a73a8442_a2c8_11ea_a0c0_7831c1c617aelevel0_row3\" class=\"row_heading level0 row3\" >145</th>\n",
       "                        <th id=\"T_a73a8442_a2c8_11ea_a0c0_7831c1c617aelevel1_row3\" class=\"row_heading level1 row3\" >Fiery Glass Crusader</th>\n",
       "                        <td id=\"T_a73a8442_a2c8_11ea_a0c0_7831c1c617aerow3_col0\" class=\"data row3 col0\" >9</td>\n",
       "                        <td id=\"T_a73a8442_a2c8_11ea_a0c0_7831c1c617aerow3_col1\" class=\"data row3 col1\" >$4.58</td>\n",
       "                        <td id=\"T_a73a8442_a2c8_11ea_a0c0_7831c1c617aerow3_col2\" class=\"data row3 col2\" >$41.22</td>\n",
       "            </tr>\n",
       "            <tr>\n",
       "                        <th id=\"T_a73a8442_a2c8_11ea_a0c0_7831c1c617aelevel0_row4\" class=\"row_heading level0 row4\" >103</th>\n",
       "                        <th id=\"T_a73a8442_a2c8_11ea_a0c0_7831c1c617aelevel1_row4\" class=\"row_heading level1 row4\" >Singed Scalpel</th>\n",
       "                        <td id=\"T_a73a8442_a2c8_11ea_a0c0_7831c1c617aerow4_col0\" class=\"data row4 col0\" >8</td>\n",
       "                        <td id=\"T_a73a8442_a2c8_11ea_a0c0_7831c1c617aerow4_col1\" class=\"data row4 col1\" >$4.35</td>\n",
       "                        <td id=\"T_a73a8442_a2c8_11ea_a0c0_7831c1c617aerow4_col2\" class=\"data row4 col2\" >$34.80</td>\n",
       "            </tr>\n",
       "    </tbody></table>"
      ],
      "text/plain": [
       "<pandas.io.formats.style.Styler at 0x11e2d95f8>"
      ]
     },
     "execution_count": 328,
     "metadata": {},
     "output_type": "execute_result"
    }
   ],
   "source": [
    "most_popular_items_format.style.format({\"Item Price ($)\":\"${:,.2f}\", \"Total Purchase Value ($)\":\"${:,.2f}\"})"
   ]
  },
  {
   "cell_type": "code",
   "execution_count": null,
   "metadata": {},
   "outputs": [],
   "source": []
  }
 ],
 "metadata": {
  "anaconda-cloud": {},
  "kernel_info": {
   "name": "python3"
  },
  "kernelspec": {
   "display_name": "Python 3",
   "language": "python",
   "name": "python3"
  },
  "language_info": {
   "codemirror_mode": {
    "name": "ipython",
    "version": 3
   },
   "file_extension": ".py",
   "mimetype": "text/x-python",
   "name": "python",
   "nbconvert_exporter": "python",
   "pygments_lexer": "ipython3",
   "version": "3.6.10"
  },
  "latex_envs": {
   "LaTeX_envs_menu_present": true,
   "autoclose": false,
   "autocomplete": true,
   "bibliofile": "biblio.bib",
   "cite_by": "apalike",
   "current_citInitial": 1,
   "eqLabelWithNumbers": true,
   "eqNumInitial": 1,
   "hotkeys": {
    "equation": "Ctrl-E",
    "itemize": "Ctrl-I"
   },
   "labels_anchors": false,
   "latex_user_defs": false,
   "report_style_numbering": false,
   "user_envs_cfg": false
  },
  "nteract": {
   "version": "0.2.0"
  }
 },
 "nbformat": 4,
 "nbformat_minor": 2
}
